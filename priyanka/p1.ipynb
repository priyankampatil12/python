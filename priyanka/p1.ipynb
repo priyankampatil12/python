{
 "cells": [
  {
   "cell_type": "code",
   "execution_count": 5,
   "metadata": {},
   "outputs": [
    {
     "name": "stdout",
     "output_type": "stream",
     "text": [
      "Result of Name: priyanka\n"
     ]
    }
   ],
   "source": [
    "def name(str):\n",
    "    res=str\n",
    "    print(\"Result of Name:\",res)\n",
    "inp=str(input(\"Enter the Name:\"))\n",
    "name(inp)"
   ]
  }
 ],
 "metadata": {
  "kernelspec": {
   "display_name": "Python 3",
   "language": "python",
   "name": "python3"
  },
  "language_info": {
   "codemirror_mode": {
    "name": "ipython",
    "version": 3
   },
   "file_extension": ".py",
   "mimetype": "text/x-python",
   "name": "python",
   "nbconvert_exporter": "python",
   "pygments_lexer": "ipython3",
   "version": "3.11.2"
  },
  "orig_nbformat": 4,
  "vscode": {
   "interpreter": {
    "hash": "f59dcc4c2d112fd30d8cf68a627ce76a3baa579003ff2cd989c246132f80b650"
   }
  }
 },
 "nbformat": 4,
 "nbformat_minor": 2
}
